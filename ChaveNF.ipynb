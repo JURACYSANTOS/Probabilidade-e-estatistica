{
  "nbformat": 4,
  "nbformat_minor": 0,
  "metadata": {
    "colab": {
      "name": "Untitled0.ipynb",
      "provenance": [],
      "authorship_tag": "ABX9TyOjQp/yv8SmS+3qdUnkS5BK",
      "include_colab_link": true
    },
    "kernelspec": {
      "name": "python3",
      "display_name": "Python 3"
    }
  },
  "cells": [
    {
      "cell_type": "markdown",
      "metadata": {
        "id": "view-in-github",
        "colab_type": "text"
      },
      "source": [
        "<a href=\"https://colab.research.google.com/github/JURACYSANTOS/Probabilidade-e-estatistica/blob/master/ChaveNF.ipynb\" target=\"_parent\"><img src=\"https://colab.research.google.com/assets/colab-badge.svg\" alt=\"Open In Colab\"/></a>"
      ]
    },
    {
      "cell_type": "code",
      "metadata": {
        "id": "4JpPG8b0XvsP",
        "colab_type": "code",
        "colab": {
          "base_uri": "https://localhost:8080/",
          "height": 71
        },
        "outputId": "8f7913ad-1913-4a45-823b-553e791ca28d"
      },
      "source": [
        "\"\"\"Descobir o numero de uma nota fiscal pela chave\"\"\"\n",
        "\n",
        "Chave = [35200768571041003510550070010075391100095663]\n",
        "Chave = str(Chave)\n",
        "Chave =  list(Chave)\n",
        "print(Chave)\n",
        "print(Chave[-6:-1])"
      ],
      "execution_count": 27,
      "outputs": [
        {
          "output_type": "stream",
          "text": [
            "['[', '3', '5', '2', '0', '0', '7', '6', '8', '5', '7', '1', '0', '4', '1', '0', '0', '3', '5', '1', '0', '5', '5', '0', '0', '7', '0', '0', '1', '0', '0', '7', '5', '3', '9', '1', '1', '0', '0', '0', '9', '5', '6', '6', '3', ']']\n",
            "['9', '5', '6', '6', '3']\n"
          ],
          "name": "stdout"
        }
      ]
    }
  ]
}